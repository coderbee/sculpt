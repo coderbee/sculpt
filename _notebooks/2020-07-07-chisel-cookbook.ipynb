{
 "cells": [
  {
   "cell_type": "markdown",
   "metadata": {},
   "source": [
    "# Chisel Cookbook "
   ]
  },
  {
   "cell_type": "markdown",
   "metadata": {},
   "source": [
    "## Introduction"
   ]
  },
  {
   "cell_type": "markdown",
   "metadata": {},
   "source": [
    "## Table of contents "
   ]
  },
  {
   "cell_type": "markdown",
   "metadata": {},
   "source": [
    "* *Module* is a built-in Chisel class that all hardware modules must extend.\n",
    "* THe io'e are defined using a special **val io**. must of of the IO object/instance\n",
    "* **Bundle** - Hardware struct type\n",
    "*  := operator is a Chisel operator that indicates that the right-hand signal drives the left-hand signal. It is a directioned operator.\n",
    "* Elaboration : we then use Scala to call the Chisel compiler to translate Chisel Passthrough into Verilog Passthrough.  **getVerilog**(new Passthrough))\n",
    "* **Parameterization** Chisel module is implemented as a Scala class. Just like any other Scala class, we could make a Chisel module take some construction parameters. Powerful parameterization. parameterization is enabled by Scala, not Chisel; Chisel has no extra APIs for parameterization, but a designer can simply leverage Scala features to parameterize his/her designs.\n",
    "* Chisel test harness \n",
    "    * poke\n",
    "    * expect\n",
    "    <code>\n",
    "     val testResult = Driver(() => new Passthrough()) {\n",
    "      c => new PeekPokeTester(c) {\n",
    "        poke(c.io.in, 0)     // Set our input to value 0\n",
    "        expect(c.io.out, 0)  // Assert that the output correctly has 0\n",
    "    <\\code>"
   ]
  },
  {
   "cell_type": "markdown",
   "metadata": {},
   "source": [
    "* Chisel printf has its own string interpolator too\n",
    "    printf(p\"Print during simulation: IO is $io\\n\")\n",
    "* printf vs println in scala "
   ]
  },
  {
   "cell_type": "markdown",
   "metadata": {},
   "source": [
    "### Combinatorial circuits \n",
    "* Basic chisel types - **SInt, UInt, and bool**\n",
    "* During hardware construction, use **val** only not var since the construct itself never changes, only the value it holds druing simulation changes\n",
    "* We've called our class MyModule, and it extends Module. This means it gets mapped to a hardware module in Verilog.\n",
    "* [QUESTION] Is there something like a synthesizable subset?? what does it mean that everything within a class tht extends Module is synthesizable \n",
    "* {QUESTION} Does firrtl/verilog capture entire information about design i.e. no information loss? \n",
    "* {QUESTION} : datatype of priting 1.U + 1.U in exercise  UInt<1>(OpResult in MyModule). This is seen as a Hardware node, and not as an addition of 1 + 1\n",
    "\n"
   ]
  }
 ],
 "metadata": {
  "anaconda-cloud": {},
  "kernelspec": {
   "display_name": "Scala",
   "language": "scala",
   "name": "scala"
  },
  "language_info": {
   "codemirror_mode": "text/x-scala",
   "file_extension": ".scala",
   "mimetype": "text/x-scala",
   "name": "scala",
   "nbconvert_exporter": "script",
   "version": "2.12.10"
  }
 },
 "nbformat": 4,
 "nbformat_minor": 2
}
